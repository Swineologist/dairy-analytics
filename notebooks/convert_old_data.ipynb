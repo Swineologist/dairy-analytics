{
 "cells": [
  {
   "cell_type": "code",
   "execution_count": null,
   "metadata": {},
   "outputs": [],
   "source": [
    "import pandas, json"
   ]
  },
  {
   "cell_type": "code",
   "execution_count": null,
   "metadata": {},
   "outputs": [],
   "source": [
    "forecaster = 'nzx-mkp'\n",
    "filename = '../data/forecasts/' + forecaster + '.csv'\n",
    "dataframe = pandas.read_csv(filename)\n",
    "dataframe.rename(columns = {'Date': 'date', 'Season': 'season', 'Forecast': 'forecast'})\n",
    "dataframe[['Date', 'Season', 'Forecast']].to_csv(filename, index=False)"
   ]
  },
  {
   "cell_type": "code",
   "execution_count": null,
   "metadata": {},
   "outputs": [],
   "source": [
    "NaN"
   ]
  },
  {
   "cell_type": "code",
   "execution_count": null,
   "metadata": {},
   "outputs": [],
   "source": [
    "filename = '../data/gdt/events.csv'\n",
    "dataframe = pandas.read_csv(filename, na_values='n.a.')\n",
    "dataframe['date'] = pandas.to_datetime(dataframe['date'])\n",
    "dataframe['date'] = dataframe['date'].dt.strftime('%Y-%m-%d')\n",
    "# dataframe.drop(['season'], axis=1).\n",
    "dataframe.to_csv(filename, index=False)\n",
    "dataframe"
   ]
  },
  {
   "cell_type": "code",
   "execution_count": null,
   "metadata": {},
   "outputs": [],
   "source": [
    "'1.2'.parse()"
   ]
  },
  {
   "cell_type": "code",
   "execution_count": null,
   "metadata": {},
   "outputs": [],
   "source": [
    "def to_season_string(season):\n",
    "    return f'{season}-{season-1999:02}'\n",
    "\n",
    "def json_dump(filename, data):\n",
    "    with open(filename, 'w') as file:\n",
    "        json.dump(data, file, indent=2)\n",
    "        \n",
    "def drop_repeated_forecast(forecasts):\n",
    "    for index in range(len(forecasts)-1, 0, -1):\n",
    "        if forecasts[index]['value'] == forecasts[index-1]['value']:\n",
    "            forecasts.pop(index)"
   ]
  },
  {
   "cell_type": "code",
   "execution_count": null,
   "metadata": {},
   "outputs": [],
   "source": [
    "data = {}\n",
    "for forecaster in ['fonterra', 'agrihq', 'asb', 'bnz', 'westpac']:\n",
    "    dataframe = pandas.read_csv('../data/old_data/forecasts/' + forecaster + '.csv')\n",
    "    for index, row in dataframe.iterrows():\n",
    "        season = to_season_string(row[\"Season\"])\n",
    "        if season not in data:\n",
    "            data[season] = {}\n",
    "        if forecaster not in data[season]:\n",
    "            data[season][forecaster] = []\n",
    "        data[season][forecaster].append({\n",
    "            \"date\": row[\"Date\"],\n",
    "            \"value\": round(row[\"Forecast\"], 2)\n",
    "        })\n",
    "for season in data:\n",
    "    for forecaster in data[season]:\n",
    "        data[season][forecaster].sort(key=lambda x: x['date'])\n",
    "        drop_repeated_forecast(data[season][forecaster])\n",
    "    json_dump('../data/forecasts/forecasts-' + season + '.json', data[season])"
   ]
  },
  {
   "cell_type": "code",
   "execution_count": null,
   "metadata": {},
   "outputs": [],
   "source": [
    "data = {}\n",
    "forecaster = 'mkp'\n",
    "dataframe = pandas.read_csv('../data/old_data/forecasts/' + forecaster + '.csv')\n",
    "for index, row in dataframe.iterrows():\n",
    "    season = to_season_string(row[\"Season\"])\n",
    "    if season not in data:\n",
    "        data[season] = []\n",
    "    data[season].append({\n",
    "        \"date\": row[\"Date\"],\n",
    "        \"value\": round(row[\"Forecast\"], 2)\n",
    "    })\n",
    "for season in data:\n",
    "    data[season].sort(key=lambda x: x['date'])\n",
    "    json_dump('../data/nzx/mkp-' + season + '.json', data[season])"
   ]
  }
 ],
 "metadata": {
  "kernelspec": {
   "display_name": "Python 3",
   "language": "python",
   "name": "python3"
  },
  "language_info": {
   "codemirror_mode": {
    "name": "ipython",
    "version": 3
   },
   "file_extension": ".py",
   "mimetype": "text/x-python",
   "name": "python",
   "nbconvert_exporter": "python",
   "pygments_lexer": "ipython3",
   "version": "3.6.5"
  }
 },
 "nbformat": 4,
 "nbformat_minor": 2
}
