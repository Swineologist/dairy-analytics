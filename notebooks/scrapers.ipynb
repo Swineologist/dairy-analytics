{
 "cells": [
  {
   "cell_type": "code",
   "execution_count": null,
   "metadata": {},
   "outputs": [],
   "source": [
    "import requests, json, os, datetime\n",
    "from bs4 import BeautifulSoup"
   ]
  },
  {
   "cell_type": "code",
   "execution_count": null,
   "metadata": {},
   "outputs": [],
   "source": [
    "def get_westpac_pdfs():\n",
    "    FAU_REGEX = re.compile('.+?Fortnightly-Agri-Update-(\\d+)-(\\S+)-(\\d+)')\n",
    "    WESTPAC_URL = 'https://www.westpac.co.nz/agribusiness/agri-information/' + \\\n",
    "                  'fortnightly-agri-updates/'\n",
    "    response = requests.get(WESTPAC_URL)\n",
    "    soup = BeautifulSoup(response.text, 'html.parser')\n",
    "    for link in soup.find_all('a'):\n",
    "        link_url = link.get('href')\n",
    "        if link_url == None:\n",
    "            continue\n",
    "        match = FAU_REGEX.match(link_url)\n",
    "        if match != None:\n",
    "            date = match[3]+ '-' + match[2] + '-' + match[1]\n",
    "            output_file = '../data/forecasts/westpac/' + date + '.pdf'\n",
    "            if not os.path.isfile(output_file):\n",
    "                response = requests.get('https://www.westpac.co.nz/' + link_url)\n",
    "                with open(output_file, 'wb') as file:\n",
    "                    file.write(response.content)\n",
    "        \n",
    "get_westpac_pdfs()"
   ]
  },
  {
   "cell_type": "code",
   "execution_count": null,
   "metadata": {},
   "outputs": [],
   "source": [
    "def run_agri_hq_scraper():\n",
    "    response = requests.get('https://dairy-tools.nzx.com/fgmp/calculator_widget.json',\n",
    "                            data={'client_key': os.environ['agrihq_client_key']})\n",
    "    today = datetime.datetime.now().strftime('%Y-%m-%d')\n",
    "    with open('../data/forecasts/agrihq/' + today + '.json', 'w') as file:\n",
    "        json.dump(response.json()['calculations'], file, indent=2)\n",
    "        \n",
    "run_agri_hq_scraper()"
   ]
  }
 ],
 "metadata": {
  "kernelspec": {
   "display_name": "Python 3",
   "language": "python",
   "name": "python3"
  },
  "language_info": {
   "codemirror_mode": {
    "name": "ipython",
    "version": 3
   },
   "file_extension": ".py",
   "mimetype": "text/x-python",
   "name": "python",
   "nbconvert_exporter": "python",
   "pygments_lexer": "ipython3",
   "version": "3.6.5"
  }
 },
 "nbformat": 4,
 "nbformat_minor": 2
}
